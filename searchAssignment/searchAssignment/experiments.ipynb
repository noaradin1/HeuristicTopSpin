{
 "cells": [
  {
   "cell_type": "code",
   "execution_count": 1,
   "id": "9f359b94-ff9a-4d8f-b7e4-0ab0140aa578",
   "metadata": {},
   "outputs": [],
   "source": [
    "from heuristics import BaseHeuristic\n",
    "from heuristics import BellmanUpdateHeuristic, BootstrappingHeuristic\n",
    "from BWAS import BWAS\n",
    "from topspin import TopSpinState\n",
    "from training import *\n",
    "import time\n"
   ]
  },
  {
   "cell_type": "code",
   "execution_count": 2,
   "id": "09ab81ad-5db7-42eb-9bfb-3ccbcdb94df7",
   "metadata": {},
   "outputs": [],
   "source": [
    "instance_1 = [1, 7, 10, 3, 6, 9, 5, 8, 2, 4, 11]  # easy instance\n",
    "instance_2 = [1, 5, 11, 2, 6, 3, 9, 4, 10, 7, 8]  # hard instance\n",
    "instance_11 = [11, 4, 3, 9, 10, 2, 1, 5, 6, 7, 8]  # easy instance"
   ]
  },
  {
   "cell_type": "markdown",
   "id": "e64cfd7a-eaf9-4652-9e06-42169010cef3",
   "metadata": {},
   "source": [
    "### BellmanUpdateHeuristic"
   ]
  },
  {
   "cell_type": "code",
   "execution_count": 3,
   "id": "12a4dc11-8e3b-4443-9b37-8aa8f3d571df",
   "metadata": {},
   "outputs": [
    {
     "name": "stdout",
     "output_type": "stream",
     "text": [
      "instance 1\n",
      "-----------------------------------\n"
     ]
    },
    {
     "name": "stderr",
     "output_type": "stream",
     "text": [
      "/home/noaradi/.conda/envs/noa_thesis/lib/python3.9/site-packages/tqdm/auto.py:21: TqdmWarning: IProgress not found. Please update jupyter and ipywidgets. See https://ipywidgets.readthedocs.io/en/stable/user_install.html\n",
      "  from .autonotebook import tqdm as notebook_tqdm\n"
     ]
    },
    {
     "name": "stdout",
     "output_type": "stream",
     "text": [
      "B: 1, W: 2\n",
      "Total expansions: 63523\n",
      "Path length expansions: 25\n",
      "Time: 67.87621068954468\n",
      "B: 100, W: 2\n",
      "Total expansions: 64389\n",
      "Path length expansions: 25\n",
      "Time: 2.4632904529571533\n",
      "B: 1, W: 5\n",
      "Total expansions: 15349\n",
      "Path length expansions: 31\n",
      "Time: 16.49652099609375\n",
      "B: 100, W: 5\n",
      "Total expansions: 16989\n",
      "Path length expansions: 29\n",
      "Time: 0.6616218090057373\n",
      "-----------------------------------\n",
      "instance 2\n",
      "-----------------------------------\n",
      "B: 1, W: 2\n",
      "Total expansions: 840271\n",
      "Path length expansions: 29\n",
      "Time: 887.6465377807617\n",
      "B: 100, W: 2\n",
      "Total expansions: 840289\n",
      "Path length expansions: 29\n",
      "Time: 34.21473217010498\n",
      "B: 1, W: 5\n",
      "Total expansions: 2736\n",
      "Path length expansions: 30\n",
      "Time: 2.9219970703125\n",
      "B: 100, W: 5\n",
      "Total expansions: 4789\n",
      "Path length expansions: 30\n",
      "Time: 0.14199376106262207\n",
      "-----------------------------------\n"
     ]
    }
   ],
   "source": [
    "i = 1\n",
    "for instance in [instance_1, instance_2]:\n",
    "    print(f\"instance {i}\")\n",
    "    print(\"-----------------------------------\")\n",
    "    i += 1\n",
    "    start2 = TopSpinState(instance, 4)\n",
    "\n",
    "    BU_heuristic = BellmanUpdateHeuristic(11, 4)\n",
    "\n",
    "    BU_heuristic.load_model()\n",
    "\n",
    "    for B_, W_ in [(1,2),(100,2),(1,5),(100,5)]:\n",
    "        print(f\"B: {B_}, W: {W_}\")\n",
    "        try:\n",
    "            start_time = time.time()\n",
    "            path, expansions = BWAS(start2, B=B_, W=W_, heuristic_function=BU_heuristic.get_h_values, T=1000000)\n",
    "            end_time = time.time()\n",
    "            path_to = [state.get_state_as_list() for state in path]\n",
    "            # print(\"Path to goal:\", path_to)\n",
    "            print(\"Total expansions:\", expansions)\n",
    "            print(\"Path length expansions:\", len(path_to))\n",
    "            print(\"Time:\", end_time - start_time)\n",
    "        except:\n",
    "            print(f\"BUG in B: {B_}, W: {W_}\")\n",
    "        \n",
    "    print(\"-----------------------------------\")\n"
   ]
  },
  {
   "cell_type": "markdown",
   "id": "8bb3f48d-7a50-4647-a71b-620f6725a6a1",
   "metadata": {},
   "source": [
    "### Bootstrapping"
   ]
  },
  {
   "cell_type": "code",
   "execution_count": 3,
   "id": "4253701c-bca9-4b0a-a398-1d26d09a2192",
   "metadata": {},
   "outputs": [
    {
     "name": "stdout",
     "output_type": "stream",
     "text": [
      "instance 1\n",
      "-----------------------------------\n"
     ]
    },
    {
     "name": "stderr",
     "output_type": "stream",
     "text": [
      "/home/noaradi/.conda/envs/noa_thesis/lib/python3.9/site-packages/tqdm/auto.py:21: TqdmWarning: IProgress not found. Please update jupyter and ipywidgets. See https://ipywidgets.readthedocs.io/en/stable/user_install.html\n",
      "  from .autonotebook import tqdm as notebook_tqdm\n"
     ]
    },
    {
     "name": "stdout",
     "output_type": "stream",
     "text": [
      "B: 1, W: 2\n",
      "Total expansions: 471\n",
      "Path length expansions: 25\n",
      "Time: 0.744675874710083\n",
      "B: 100, W: 2\n",
      "Total expansions: 1989\n",
      "Path length expansions: 25\n",
      "Time: 0.06114315986633301\n",
      "B: 1, W: 5\n",
      "Total expansions: 697\n",
      "Path length expansions: 39\n",
      "Time: 0.7191088199615479\n",
      "B: 100, W: 5\n",
      "Total expansions: 1989\n",
      "Path length expansions: 25\n",
      "Time: 0.06085824966430664\n",
      "-----------------------------------\n",
      "instance 2\n",
      "-----------------------------------\n",
      "B: 1, W: 2\n",
      "Total expansions: 6248\n",
      "Path length expansions: 30\n",
      "Time: 6.649620771408081\n",
      "B: 100, W: 2\n",
      "Total expansions: 7989\n",
      "Path length expansions: 30\n",
      "Time: 0.31955552101135254\n",
      "B: 1, W: 5\n",
      "Total expansions: 201\n",
      "Path length expansions: 42\n",
      "Time: 0.19991755485534668\n",
      "B: 100, W: 5\n",
      "Total expansions: 2489\n",
      "Path length expansions: 30\n",
      "Time: 0.07315421104431152\n",
      "-----------------------------------\n"
     ]
    }
   ],
   "source": [
    "i = 1\n",
    "for instance in [instance_1, instance_2]:\n",
    "    print(f\"instance {i}\")\n",
    "    print(\"-----------------------------------\")\n",
    "    i += 1\n",
    "    start2 = TopSpinState(instance, 4)\n",
    "\n",
    "    BU_heuristic = BootstrappingHeuristic(11, 4)\n",
    "\n",
    "    BU_heuristic.load_model()\n",
    "\n",
    "    for B_, W_ in [(1,2),(100,2),(1,5),(100,5)]:\n",
    "        print(f\"B: {B_}, W: {W_}\")\n",
    "        try:\n",
    "            start_time = time.time()\n",
    "            path, expansions = BWAS(start2, B=B_, W=W_, heuristic_function=BU_heuristic.get_h_values, T=1000000)\n",
    "            end_time = time.time()\n",
    "            path_to = [state.get_state_as_list() for state in path]\n",
    "            # print(\"Path to goal:\", path_to)\n",
    "            print(\"Total expansions:\", expansions)\n",
    "            print(\"Path length expansions:\", len(path_to))\n",
    "            print(\"Time:\", end_time - start_time)\n",
    "        except:\n",
    "            print(f\"BUG in B: {B_}, W: {W_}\")\n",
    "        \n",
    "    print(\"-----------------------------------\")\n"
   ]
  },
  {
   "cell_type": "markdown",
   "id": "b9767846-afa3-40ff-bba9-7a80bef6cd2a",
   "metadata": {},
   "source": [
    "### Base"
   ]
  },
  {
   "cell_type": "code",
   "execution_count": 4,
   "id": "19e64244-9382-4a28-8b4b-ce1f6e74d6ec",
   "metadata": {},
   "outputs": [
    {
     "name": "stdout",
     "output_type": "stream",
     "text": [
      "instance 1\n",
      "-----------------------------------\n",
      "B: 1, W: 2\n",
      "Total expansions: 4953\n",
      "Path length expansions: 25\n",
      "Time: 0.07374763488769531\n",
      "B: 100, W: 2\n",
      "Total expansions: 6189\n",
      "Path length expansions: 25\n",
      "Time: 0.1492609977722168\n",
      "B: 1, W: 5\n",
      "Total expansions: 205\n",
      "Path length expansions: 33\n",
      "Time: 0.0027222633361816406\n",
      "B: 100, W: 5\n",
      "Total expansions: 2489\n",
      "Path length expansions: 30\n",
      "Time: 0.029598712921142578\n",
      "-----------------------------------\n",
      "instance 2\n",
      "-----------------------------------\n",
      "B: 1, W: 2\n",
      "Total expansions: 24291\n",
      "Path length expansions: 30\n",
      "Time: 0.612013578414917\n",
      "B: 100, W: 2\n",
      "Total expansions: 24089\n",
      "Path length expansions: 30\n",
      "Time: 0.4944894313812256\n",
      "B: 1, W: 5\n",
      "Total expansions: 454\n",
      "Path length expansions: 32\n",
      "Time: 0.0060155391693115234\n",
      "B: 100, W: 5\n",
      "Total expansions: 2489\n",
      "Path length expansions: 30\n",
      "Time: 0.029189348220825195\n",
      "-----------------------------------\n"
     ]
    }
   ],
   "source": [
    "i = 1\n",
    "for instance in [instance_1, instance_2]:\n",
    "    print(f\"instance {i}\")\n",
    "    print(\"-----------------------------------\")\n",
    "    i += 1\n",
    "    start2 = TopSpinState(instance, 4)\n",
    "\n",
    "    base_heuristic = BaseHeuristic(11, 4)\n",
    "\n",
    "    for B_, W_ in [(1,2),(100,2),(1,5),(100,5)]:\n",
    "        print(f\"B: {B_}, W: {W_}\")\n",
    "        try:\n",
    "            start_time = time.time()\n",
    "            path, expansions = BWAS(start2, B=B_, W=W_, heuristic_function=base_heuristic.get_h_values, T=1000000)\n",
    "            end_time = time.time()\n",
    "            path_to = [state.get_state_as_list() for state in path]\n",
    "            # print(\"Path to goal:\", path_to)\n",
    "            print(\"Total expansions:\", expansions)\n",
    "            print(\"Path length expansions:\", len(path_to))\n",
    "            print(\"Time:\", end_time - start_time)\n",
    "        except:\n",
    "            print(f\"BUG in B: {B_}, W: {W_}\")\n",
    "        \n",
    "    print(\"-----------------------------------\")\n"
   ]
  },
  {
   "cell_type": "code",
   "execution_count": null,
   "id": "664c8047-bd8d-4add-aafb-a51c7e6da613",
   "metadata": {},
   "outputs": [],
   "source": []
  }
 ],
 "metadata": {
  "kernelspec": {
   "display_name": "Python 3 (ipykernel)",
   "language": "python",
   "name": "python3"
  },
  "language_info": {
   "codemirror_mode": {
    "name": "ipython",
    "version": 3
   },
   "file_extension": ".py",
   "mimetype": "text/x-python",
   "name": "python",
   "nbconvert_exporter": "python",
   "pygments_lexer": "ipython3",
   "version": "3.9.18"
  }
 },
 "nbformat": 4,
 "nbformat_minor": 5
}
